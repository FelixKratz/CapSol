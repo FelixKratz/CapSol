{
 "cells": [
  {
   "cell_type": "markdown",
   "id": "9884f41a",
   "metadata": {},
   "source": [
    "## Import all needed modules"
   ]
  },
  {
   "cell_type": "code",
   "execution_count": 1,
   "id": "9f4097a8",
   "metadata": {},
   "outputs": [],
   "source": [
    "from image import plotShape, plotData\n",
    "from CapSol import Laplace, Hooke, Contact\n",
    "import matplotlib as mpl\n",
    "import matplotlib.pyplot as plt\n",
    "import numpy as np\n",
    "\n",
    "from ipywidgets import interact, interactive, fixed, interact_manual\n",
    "import ipywidgets as widgets"
   ]
  },
  {
   "cell_type": "markdown",
   "id": "d8e1953e",
   "metadata": {},
   "source": [
    "### Interactive"
   ]
  },
  {
   "cell_type": "code",
   "execution_count": 2,
   "id": "ee5bef7b",
   "metadata": {},
   "outputs": [
    {
     "data": {
      "application/vnd.jupyter.widget-view+json": {
       "model_id": "9250af5105204999984234127e0b2bcf",
       "version_major": 2,
       "version_minor": 0
      },
      "text/plain": [
       "interactive(children=(FloatSlider(value=2.0, description='p_L_u', max=3.93, step=0.01), FloatSlider(value=0.5,…"
      ]
     },
     "metadata": {},
     "output_type": "display_data"
    }
   ],
   "source": [
    "def generateShape(p_L_u, tau_s_0_u, K_u, nu_u, rho_u, p_L_d, tau_s_0_d, K_d, nu_d, rho_d, tension_ud, contact_length):\n",
    "    contact = Contact(p_L_u, rho_u, p_L_d, rho_d,\n",
    "                      nu_u, K_u, tau_s_0_u,\n",
    "                      nu_d, K_d, tau_s_0_d,\n",
    "                      contact_length, 1.0,\n",
    "                      0.5, 0.5, tension_ud)\n",
    "    \n",
    "    if not contact.valid:\n",
    "        return\n",
    "\n",
    "    fig = plt.figure()\n",
    "    ax = plt.gca()\n",
    "\n",
    "    ax.plot(contact.r_u, contact.z_u)\n",
    "    ax.plot(contact.r_d, -np.array(contact.z_d))\n",
    "    ax.plot(-np.array(contact.r_u), contact.z_u)\n",
    "    ax.plot(-np.array(contact.r_d), -np.array(contact.z_d))\n",
    "    ax.set_aspect(\"equal\")\n",
    "    \n",
    "    \n",
    "    print(f\"Volume: {contact.V_u}\\nForce: {contact.f}\\nPressure: {contact.p_a_u}\")\n",
    "    plt.tight_layout()\n",
    "\n",
    "\n",
    "interact(generateShape,\n",
    "         p_L_u=widgets.FloatSlider(min=0., max=3.93, step=0.01, value=2),\n",
    "         tau_s_0_u=widgets.FloatSlider(min=0., max=3.0, step=0.01, value=0.5),\n",
    "         K_u=widgets.FloatSlider(min=0.0, max=10, step=0.01, value=1.0),\n",
    "         nu_u=widgets.FloatSlider(min=-0.999, max=0.999, step=0.01, value=0.3),\n",
    "         rho_u=widgets.FloatSlider(min=0., max=1.0, step=0.01, value=0.0),\n",
    "         p_L_d=widgets.FloatSlider(min=0., max=3.9, step=0.01, value=2),\n",
    "         tau_s_0_d=widgets.FloatSlider(min=0., max=1.5, step=0.1, value=0.5),\n",
    "         K_d=widgets.FloatSlider(min=0.0001, max=10, step=0.01, value=1.0),\n",
    "         nu_d=widgets.FloatSlider(min=-0.999, max=0.999, step=0.01, value=0.3),\n",
    "         rho_d=widgets.FloatSlider(min=0., max=1.0, step=0.01, value=0.0),\n",
    "         tension_ud=widgets.FloatSlider(min=-1, max=0.5, step=0.01, value=0.),\n",
    "         contact_length=widgets.FloatSlider(min=0., max=1.5, step=0.01, value=0.1));"
   ]
  },
  {
   "cell_type": "code",
   "execution_count": null,
   "id": "d4537281",
   "metadata": {},
   "outputs": [],
   "source": []
  }
 ],
 "metadata": {
  "kernelspec": {
   "display_name": "Python 3 (ipykernel)",
   "language": "python",
   "name": "python3"
  },
  "language_info": {
   "codemirror_mode": {
    "name": "ipython",
    "version": 3
   },
   "file_extension": ".py",
   "mimetype": "text/x-python",
   "name": "python",
   "nbconvert_exporter": "python",
   "pygments_lexer": "ipython3",
   "version": "3.9.7"
  }
 },
 "nbformat": 4,
 "nbformat_minor": 5
}
